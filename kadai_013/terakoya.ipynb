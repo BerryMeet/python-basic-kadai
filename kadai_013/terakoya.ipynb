{
  "nbformat": 4,
  "nbformat_minor": 0,
  "metadata": {
    "colab": {
      "provenance": []
    },
    "kernelspec": {
      "name": "python3",
      "display_name": "Python 3"
    },
    "language_info": {
      "name": "python"
    }
  },
  "cells": [
    {
      "cell_type": "code",
      "source": [
        "def add_price(price, tax):\n",
        "    total = price + tax\n",
        "\n",
        "    print(f\"税込金額は{total}円になります\")\n",
        "\n",
        "price = int(input(\"税抜金額を入力してください。\"))\n",
        "tax = price *0.1\n",
        "\n",
        "add_price(price, tax)"
      ],
      "metadata": {
        "colab": {
          "base_uri": "https://localhost:8080/"
        },
        "id": "VotMgKlSRk6Q",
        "outputId": "2f8d60af-3c4d-4ee6-ae26-c046afceacff"
      },
      "execution_count": 31,
      "outputs": [
        {
          "output_type": "stream",
          "name": "stdout",
          "text": [
            "税抜金額を入力してください。410\n",
            "税込金額は451.0円になります\n"
          ]
        }
      ]
    },
    {
      "cell_type": "code",
      "source": [],
      "metadata": {
        "id": "KhP-ekxPV1GW"
      },
      "execution_count": null,
      "outputs": []
    }
  ]
}