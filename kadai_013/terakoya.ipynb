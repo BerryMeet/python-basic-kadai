{
  "nbformat": 4,
  "nbformat_minor": 0,
  "metadata": {
    "colab": {
      "provenance": []
    },
    "kernelspec": {
      "name": "python3",
      "display_name": "Python 3"
    },
    "language_info": {
      "name": "python"
    }
  },
  "cells": [
    {
      "cell_type": "code",
      "source": [
        "def add_price(price, tax):\n",
        "    total = price + (price * tax)\n",
        "\n",
        "    print(f\"税込金額は{total}円になります\")\n",
        "\n",
        "price = int(input(\"税抜金額を入力してください。\"))\n",
        "tax = 0.1\n",
        "\n",
        "add_price(price, tax)"
      ],
      "metadata": {
        "colab": {
          "base_uri": "https://localhost:8080/"
        },
        "id": "ODH7R-SLjsGs",
        "outputId": "30751da4-c89e-4512-dbcc-0a0792be609f"
      },
      "execution_count": 38,
      "outputs": [
        {
          "output_type": "stream",
          "name": "stdout",
          "text": [
            "税抜金額を入力してください。500\n",
            "税込金額は550.0円になります\n"
          ]
        }
      ]
    }
  ]
}