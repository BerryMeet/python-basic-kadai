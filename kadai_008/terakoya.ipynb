{
  "nbformat": 4,
  "nbformat_minor": 0,
  "metadata": {
    "colab": {
      "provenance": []
    },
    "kernelspec": {
      "name": "python3",
      "display_name": "Python 3"
    },
    "language_info": {
      "name": "python"
    }
  },
  "cells": [
    {
      "cell_type": "code",
      "source": [
        "import random\n",
        "var = random.randint(1,30)\n",
        "\n",
        "if var % 15 == 0:\n",
        "    print(str(var) + \" FizzBuzz\")\n",
        "elif var % 5 == 0:\n",
        "    print(str(var) + \" Buzz\")\n",
        "elif var % 3 == 0:\n",
        "    print(str(var) + \" Fizz\")\n",
        "else:\n",
        "    print(var)"
      ],
      "metadata": {
        "colab": {
          "base_uri": "https://localhost:8080/"
        },
        "id": "QprJXt8MYrM_",
        "outputId": "687edb91-b152-406c-a091-5e9610b94950"
      },
      "execution_count": 117,
      "outputs": [
        {
          "output_type": "stream",
          "name": "stdout",
          "text": [
            "15 FizzBuzz\n"
          ]
        }
      ]
    }
  ]
}