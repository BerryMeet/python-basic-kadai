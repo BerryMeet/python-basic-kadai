{
  "nbformat": 4,
  "nbformat_minor": 0,
  "metadata": {
    "colab": {
      "provenance": []
    },
    "kernelspec": {
      "name": "python3",
      "display_name": "Python 3"
    },
    "language_info": {
      "name": "python"
    }
  },
  "cells": [
    {
      "cell_type": "code",
      "source": [
        "class Human():\n",
        "    def __init__(self, name, age):\n",
        "      self.name = name\n",
        "      self.age = age\n",
        "\n",
        "    def check_adult(self):\n",
        "        if self.age >= 20:\n",
        "            print(f\"{self.name}さんは、{self.age}歳なので大人です\")\n",
        "        else:\n",
        "            print(f\"{self.name}さんは、{self.age}歳なので子供です\")\n",
        "\n",
        "student_list = {\"太郎\": 20, \"次郎\": 15, \"サブ郎\": 50, \"四郎\": 35}\n",
        "\n",
        "for key, value in student_list.items():\n",
        "    human = Human(key, value)\n",
        "    human.check_adult()\n",
        "#    print(student.name)\n",
        "\n",
        "#human = Human(\"太郎\", 20)\n",
        "#print(len(student_list))\n",
        "#human.check_adult()"
      ],
      "metadata": {
        "colab": {
          "base_uri": "https://localhost:8080/"
        },
        "id": "X_KV6ZCBpCgY",
        "outputId": "154f5de7-c680-43da-abee-8a18e7425126"
      },
      "execution_count": 29,
      "outputs": [
        {
          "output_type": "stream",
          "name": "stdout",
          "text": [
            "太郎さんは、20歳なので大人です\n",
            "次郎さんは、15歳なので子供です\n",
            "サブ郎さんは、50歳なので大人です\n",
            "四郎さんは、35歳なので大人です\n"
          ]
        }
      ]
    }
  ]
}