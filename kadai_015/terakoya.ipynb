{
  "nbformat": 4,
  "nbformat_minor": 0,
  "metadata": {
    "colab": {
      "provenance": []
    },
    "kernelspec": {
      "name": "python3",
      "display_name": "Python 3"
    },
    "language_info": {
      "name": "python"
    }
  },
  "cells": [
    {
      "cell_type": "code",
      "source": [
        "class human:\n",
        "    def __init__(self, name, age):\n",
        "        self.name = name\n",
        "        self.age = age\n",
        "\n",
        "    def printinfo(self):\n",
        "        print(f'名前は{self.name}、年齢は{self.age}歳です')\n",
        "\n",
        "input_name = input(\"名前を入力してください\")\n",
        "input_age = input(\"年齢を入力してください\")\n",
        "\n",
        "human = human(input_name, input_age)\n",
        "human.printinfo()\n",
        "#printd(human.name)\n",
        "#print(human.age)\n"
      ],
      "metadata": {
        "colab": {
          "base_uri": "https://localhost:8080/"
        },
        "id": "ODH7R-SLjsGs",
        "outputId": "b208ad71-72ac-4214-8256-78275cd41f76"
      },
      "execution_count": 84,
      "outputs": [
        {
          "output_type": "stream",
          "name": "stdout",
          "text": [
            "名前を入力してください太郎\n",
            "年齢を入力してください40\n",
            "名前は太郎、年齢は40歳です\n"
          ]
        }
      ]
    }
  ]
}